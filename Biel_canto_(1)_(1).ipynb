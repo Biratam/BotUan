{
  "nbformat": 4,
  "nbformat_minor": 0,
  "metadata": {
    "colab": {
      "provenance": [],
      "include_colab_link": true
    },
    "kernelspec": {
      "name": "python3",
      "display_name": "Python 3"
    },
    "language_info": {
      "name": "python"
    }
  },
  "cells": [
    {
      "cell_type": "markdown",
      "metadata": {
        "id": "view-in-github",
        "colab_type": "text"
      },
      "source": [
        "<a href=\"https://colab.research.google.com/github/Biratam/BotUan/blob/main/Biel_canto_(1)_(1).ipynb\" target=\"_parent\"><img src=\"https://colab.research.google.com/assets/colab-badge.svg\" alt=\"Open In Colab\"/></a>"
      ]
    },
    {
      "cell_type": "code",
      "execution_count": 1,
      "metadata": {
        "id": "2zhKjnv5Fjgl"
      },
      "outputs": [],
      "source": [
        "import requests\n",
        "import pandas as pd\n",
        "import numpy as np\n",
        "import re\n",
        "from time import sleep\n",
        "from requests.api import request"
      ]
    },
    {
      "cell_type": "markdown",
      "metadata": {
        "id": "D3IIp5d5vVW1"
      },
      "source": [
        "### Configuraçoes do bot"
      ]
    },
    {
      "cell_type": "code",
      "source": [
        "data = requests.get('https://www.totalcorner.com/match/today')"
      ],
      "metadata": {
        "id": "cQcIvVv4IWaR"
      },
      "execution_count": 2,
      "outputs": []
    },
    {
      "cell_type": "code",
      "source": [
        "df = pd.read_html(data.text)[0]"
      ],
      "metadata": {
        "id": "4YK1P1xoIuK5"
      },
      "execution_count": 3,
      "outputs": []
    },
    {
      "cell_type": "code",
      "source": [
        "df.dropna(axis=1,how='all',inplace=True)"
      ],
      "metadata": {
        "id": "i3O1NuI9Kjl2"
      },
      "execution_count": 4,
      "outputs": []
    },
    {
      "cell_type": "code",
      "source": [
        "df.dropna(axis=0,how='any',inplace=True)"
      ],
      "metadata": {
        "id": "qlYAIW2lLSnK"
      },
      "execution_count": 5,
      "outputs": []
    },
    {
      "cell_type": "code",
      "source": [
        "df.drop(columns=['Handicap','Goal Line','Analysis','Time'],inplace=True)"
      ],
      "metadata": {
        "id": "xYBjReAvMPu-"
      },
      "execution_count": 6,
      "outputs": []
    },
    {
      "cell_type": "code",
      "source": [
        "df.rename(columns={'Unnamed: 3':'Cronometro'},inplace=True)"
      ],
      "metadata": {
        "id": "3gBv60m9MyAY"
      },
      "execution_count": 7,
      "outputs": []
    },
    {
      "cell_type": "code",
      "source": [
        "df['Cronometro'] = df['Cronometro'].apply(lambda a: 45 if a == 'Half'else a).astype('int64')"
      ],
      "metadata": {
        "id": "u-vGAVkoNzce"
      },
      "execution_count": 8,
      "outputs": []
    },
    {
      "cell_type": "code",
      "source": [
        "df['Corner'] = df['Corner'].apply(lambda a: list(map(int,a[0].split(' - '))))"
      ],
      "metadata": {
        "id": "QXESkiQvVVFe"
      },
      "execution_count": 9,
      "outputs": []
    },
    {
      "cell_type": "code",
      "source": [
        "df['Dangerous Attack'] = df['Dangerous Attack'].apply(lambda a: re.findall(r'\\d{1,} - \\d{1,}',a))"
      ],
      "metadata": {
        "id": "6_UjtOqRYxuW"
      },
      "execution_count": 10,
      "outputs": []
    },
    {
      "cell_type": "code",
      "source": [
        "df['Shots'] = df['Shots'].apply(lambda a: re.findall(r'\\d{1,} - \\d{1,}',a))"
      ],
      "metadata": {
        "id": "xC0_t_KdZBn0"
      },
      "execution_count": 11,
      "outputs": []
    },
    {
      "cell_type": "code",
      "source": [
        "df['Dangerous Attack'] = df['Dangerous Attack'].apply(lambda a: a if a != [] else np.nan)\n",
        "df['Corner'] = df['Corner'].apply(lambda a: a if a != [] else np.nan)\n",
        "df['Shots'] = df['Shots'].apply(lambda a: a if a != [] else np.nan)"
      ],
      "metadata": {
        "id": "_wy6O8sHZpdf"
      },
      "execution_count": 12,
      "outputs": []
    },
    {
      "cell_type": "code",
      "source": [],
      "metadata": {
        "id": "vDdDR6-5LHeH"
      },
      "execution_count": 12,
      "outputs": []
    },
    {
      "cell_type": "code",
      "source": [
        "df.dropna(axis=0, how = 'any',inplace=True)"
      ],
      "metadata": {
        "id": "qw8IxeBZaegt"
      },
      "execution_count": 13,
      "outputs": []
    },
    {
      "cell_type": "code",
      "source": [
        "df['Shots'] = df['Shots'].apply(lambda a: list(map(int,a[0].split(' - '))))\n",
        "df['Dangerous Attack'] = df['Dangerous Attack'].apply(lambda a: list(map(int,a[0].split(' - '))))"
      ],
      "metadata": {
        "id": "VotOflapa8Wy"
      },
      "execution_count": 14,
      "outputs": []
    },
    {
      "cell_type": "code",
      "source": [
        "df.head()"
      ],
      "metadata": {
        "id": "mE_2GHwLjFPN",
        "colab": {
          "base_uri": "https://localhost:8080/",
          "height": 206
        },
        "outputId": "013dc424-6f77-4088-a9a1-982c5e6c02c8"
      },
      "execution_count": 15,
      "outputs": [
        {
          "output_type": "execute_result",
          "data": {
            "text/plain": [
              "                  League  Cronometro          Home  Score            Away  \\\n",
              "2  Portugal Segunda Liga          91   3 Benfica B  0 - 0      Trofense 4   \n",
              "3  Portugal Segunda Liga          90    SC Covilha  0 - 1      CD Mafra 4   \n",
              "4       Turkey Super Lig          89   Antalyaspor  1 - 2     Sivasspor 2   \n",
              "5       Turkey Super Lig          86  3 Fenerbahce  3 - 2  Istanbulspor 3   \n",
              "6     Sweden Allsvenskan          92   IFK Varnamo  1 - 0           AIK 2   \n",
              "\n",
              "  Corner Dangerous Attack    Shots  \n",
              "2    [6]         [66, 35]   [5, 3]  \n",
              "3    [5]         [83, 40]  [11, 5]  \n",
              "4    [1]         [70, 36]  [16, 7]  \n",
              "5    [5]         [94, 42]  [11, 4]  \n",
              "6    [8]         [59, 46]  [14, 8]  "
            ],
            "text/html": [
              "\n",
              "  <div id=\"df-759cd29f-1706-48f6-8efa-29916fa06bc2\">\n",
              "    <div class=\"colab-df-container\">\n",
              "      <div>\n",
              "<style scoped>\n",
              "    .dataframe tbody tr th:only-of-type {\n",
              "        vertical-align: middle;\n",
              "    }\n",
              "\n",
              "    .dataframe tbody tr th {\n",
              "        vertical-align: top;\n",
              "    }\n",
              "\n",
              "    .dataframe thead th {\n",
              "        text-align: right;\n",
              "    }\n",
              "</style>\n",
              "<table border=\"1\" class=\"dataframe\">\n",
              "  <thead>\n",
              "    <tr style=\"text-align: right;\">\n",
              "      <th></th>\n",
              "      <th>League</th>\n",
              "      <th>Cronometro</th>\n",
              "      <th>Home</th>\n",
              "      <th>Score</th>\n",
              "      <th>Away</th>\n",
              "      <th>Corner</th>\n",
              "      <th>Dangerous Attack</th>\n",
              "      <th>Shots</th>\n",
              "    </tr>\n",
              "  </thead>\n",
              "  <tbody>\n",
              "    <tr>\n",
              "      <th>2</th>\n",
              "      <td>Portugal Segunda Liga</td>\n",
              "      <td>91</td>\n",
              "      <td>3 Benfica B</td>\n",
              "      <td>0 - 0</td>\n",
              "      <td>Trofense 4</td>\n",
              "      <td>[6]</td>\n",
              "      <td>[66, 35]</td>\n",
              "      <td>[5, 3]</td>\n",
              "    </tr>\n",
              "    <tr>\n",
              "      <th>3</th>\n",
              "      <td>Portugal Segunda Liga</td>\n",
              "      <td>90</td>\n",
              "      <td>SC Covilha</td>\n",
              "      <td>0 - 1</td>\n",
              "      <td>CD Mafra 4</td>\n",
              "      <td>[5]</td>\n",
              "      <td>[83, 40]</td>\n",
              "      <td>[11, 5]</td>\n",
              "    </tr>\n",
              "    <tr>\n",
              "      <th>4</th>\n",
              "      <td>Turkey Super Lig</td>\n",
              "      <td>89</td>\n",
              "      <td>Antalyaspor</td>\n",
              "      <td>1 - 2</td>\n",
              "      <td>Sivasspor 2</td>\n",
              "      <td>[1]</td>\n",
              "      <td>[70, 36]</td>\n",
              "      <td>[16, 7]</td>\n",
              "    </tr>\n",
              "    <tr>\n",
              "      <th>5</th>\n",
              "      <td>Turkey Super Lig</td>\n",
              "      <td>86</td>\n",
              "      <td>3 Fenerbahce</td>\n",
              "      <td>3 - 2</td>\n",
              "      <td>Istanbulspor 3</td>\n",
              "      <td>[5]</td>\n",
              "      <td>[94, 42]</td>\n",
              "      <td>[11, 4]</td>\n",
              "    </tr>\n",
              "    <tr>\n",
              "      <th>6</th>\n",
              "      <td>Sweden Allsvenskan</td>\n",
              "      <td>92</td>\n",
              "      <td>IFK Varnamo</td>\n",
              "      <td>1 - 0</td>\n",
              "      <td>AIK 2</td>\n",
              "      <td>[8]</td>\n",
              "      <td>[59, 46]</td>\n",
              "      <td>[14, 8]</td>\n",
              "    </tr>\n",
              "  </tbody>\n",
              "</table>\n",
              "</div>\n",
              "      <button class=\"colab-df-convert\" onclick=\"convertToInteractive('df-759cd29f-1706-48f6-8efa-29916fa06bc2')\"\n",
              "              title=\"Convert this dataframe to an interactive table.\"\n",
              "              style=\"display:none;\">\n",
              "        \n",
              "  <svg xmlns=\"http://www.w3.org/2000/svg\" height=\"24px\"viewBox=\"0 0 24 24\"\n",
              "       width=\"24px\">\n",
              "    <path d=\"M0 0h24v24H0V0z\" fill=\"none\"/>\n",
              "    <path d=\"M18.56 5.44l.94 2.06.94-2.06 2.06-.94-2.06-.94-.94-2.06-.94 2.06-2.06.94zm-11 1L8.5 8.5l.94-2.06 2.06-.94-2.06-.94L8.5 2.5l-.94 2.06-2.06.94zm10 10l.94 2.06.94-2.06 2.06-.94-2.06-.94-.94-2.06-.94 2.06-2.06.94z\"/><path d=\"M17.41 7.96l-1.37-1.37c-.4-.4-.92-.59-1.43-.59-.52 0-1.04.2-1.43.59L10.3 9.45l-7.72 7.72c-.78.78-.78 2.05 0 2.83L4 21.41c.39.39.9.59 1.41.59.51 0 1.02-.2 1.41-.59l7.78-7.78 2.81-2.81c.8-.78.8-2.07 0-2.86zM5.41 20L4 18.59l7.72-7.72 1.47 1.35L5.41 20z\"/>\n",
              "  </svg>\n",
              "      </button>\n",
              "      \n",
              "  <style>\n",
              "    .colab-df-container {\n",
              "      display:flex;\n",
              "      flex-wrap:wrap;\n",
              "      gap: 12px;\n",
              "    }\n",
              "\n",
              "    .colab-df-convert {\n",
              "      background-color: #E8F0FE;\n",
              "      border: none;\n",
              "      border-radius: 50%;\n",
              "      cursor: pointer;\n",
              "      display: none;\n",
              "      fill: #1967D2;\n",
              "      height: 32px;\n",
              "      padding: 0 0 0 0;\n",
              "      width: 32px;\n",
              "    }\n",
              "\n",
              "    .colab-df-convert:hover {\n",
              "      background-color: #E2EBFA;\n",
              "      box-shadow: 0px 1px 2px rgba(60, 64, 67, 0.3), 0px 1px 3px 1px rgba(60, 64, 67, 0.15);\n",
              "      fill: #174EA6;\n",
              "    }\n",
              "\n",
              "    [theme=dark] .colab-df-convert {\n",
              "      background-color: #3B4455;\n",
              "      fill: #D2E3FC;\n",
              "    }\n",
              "\n",
              "    [theme=dark] .colab-df-convert:hover {\n",
              "      background-color: #434B5C;\n",
              "      box-shadow: 0px 1px 3px 1px rgba(0, 0, 0, 0.15);\n",
              "      filter: drop-shadow(0px 1px 2px rgba(0, 0, 0, 0.3));\n",
              "      fill: #FFFFFF;\n",
              "    }\n",
              "  </style>\n",
              "\n",
              "      <script>\n",
              "        const buttonEl =\n",
              "          document.querySelector('#df-759cd29f-1706-48f6-8efa-29916fa06bc2 button.colab-df-convert');\n",
              "        buttonEl.style.display =\n",
              "          google.colab.kernel.accessAllowed ? 'block' : 'none';\n",
              "\n",
              "        async function convertToInteractive(key) {\n",
              "          const element = document.querySelector('#df-759cd29f-1706-48f6-8efa-29916fa06bc2');\n",
              "          const dataTable =\n",
              "            await google.colab.kernel.invokeFunction('convertToInteractive',\n",
              "                                                     [key], {});\n",
              "          if (!dataTable) return;\n",
              "\n",
              "          const docLinkHtml = 'Like what you see? Visit the ' +\n",
              "            '<a target=\"_blank\" href=https://colab.research.google.com/notebooks/data_table.ipynb>data table notebook</a>'\n",
              "            + ' to learn more about interactive tables.';\n",
              "          element.innerHTML = '';\n",
              "          dataTable['output_type'] = 'display_data';\n",
              "          await google.colab.output.renderOutput(dataTable, element);\n",
              "          const docLink = document.createElement('div');\n",
              "          docLink.innerHTML = docLinkHtml;\n",
              "          element.appendChild(docLink);\n",
              "        }\n",
              "      </script>\n",
              "    </div>\n",
              "  </div>\n",
              "  "
            ]
          },
          "metadata": {},
          "execution_count": 15
        }
      ]
    },
    {
      "cell_type": "code",
      "source": [
        "def enviar_mensagem(msg):\n",
        "  bot_token = '6012519840:AAEYh3-Dnmemjb4iHjeEtQECqjB8kBWC19M'\n",
        "  chat_id = -1001989959215\n",
        "  url = f'https://api.telegram.org/bot6012519840:AAEYh3-Dnmemjb4iHjeEtQECqjB8kBWC19M/sendMessage?chat_id={chat_id}&text={msg}'\n",
        "  requests.post(url)\n",
        "\n"
      ],
      "metadata": {
        "id": "rZtwpzRNIqDZ"
      },
      "execution_count": 16,
      "outputs": []
    },
    {
      "cell_type": "code",
      "source": [
        "mensagens_enviadas = []"
      ],
      "metadata": {
        "id": "JyyFZ3vtapFn"
      },
      "execution_count": 17,
      "outputs": []
    },
    {
      "cell_type": "code",
      "source": [
        "for i in range(len(df)):\n",
        "  j = df.iloc[i]\n",
        "  tempo = j['Cronometro'] \n",
        "\n",
        "  appm_home = round(j['Dangerous Attack'][0]/tempo,1)\n",
        "  appm_away = round(j['Dangerous Attack'][0]/tempo,0)\n",
        "\n",
        "  cg_home = j['Corner'][0] + j['Shots'][0]\n",
        "  cg_away = j['Corner'][0] + j['Shots'][0]\n",
        "\n",
        "  condicao_home = appm_home >= 0.3 and cg_home >= 2\n",
        "  condicao_away = appm_away >= 0.3 and cg_away >= 5  \n",
        "\n",
        "  t1 = 0 < tempo < 45\n",
        "  t2 = 45 < tempo < 90\n",
        "\n",
        "  if (condicao_home or condicao_away) and (t1 or t2):\n",
        "    \n",
        "     if t1:\n",
        "       t = 't1'\n",
        "     else:\n",
        "      t = 't2'\n",
        "     \n",
        "\n",
        "     home =re.sub(r'^\\d{1} ','',j['Home'])\n",
        "     away =re.sub(r'^\\d{1}$','',j['Away']) \n",
        "     if f'{home} x {away}_{t}' not in mensagens_enviadas:\n",
        "      msg = (f'''\n",
        "        \n",
        "        CANTO-LIMITE\n",
        "     Liga:{j[\"League\"]}\n",
        "\n",
        "     Jogo: {home} x {away}\n",
        "     Placar: {j [\"Score\"]}\n",
        "     Min:{tempo}\n",
        "     Appm: {appm_home} - {appm_away}\n",
        "     CG: {cg_home} -{cg_away}\n",
        "     ''')\n",
        "     enviar_mensagem(msg)\n",
        "     mensagens_enviadas.append(f'{home} x {away}_{t}')\n",
        "     sleep(2)"
      ],
      "metadata": {
        "id": "5G_6F5P4_5LA"
      },
      "execution_count": 18,
      "outputs": []
    },
    {
      "cell_type": "markdown",
      "source": [],
      "metadata": {
        "id": "YBscPyKu_6Qc"
      }
    },
    {
      "cell_type": "code",
      "source": [],
      "metadata": {
        "id": "O5LsHh6E_ymC"
      },
      "execution_count": 18,
      "outputs": []
    }
  ]
}